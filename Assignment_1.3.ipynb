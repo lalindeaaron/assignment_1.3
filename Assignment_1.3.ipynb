{
 "cells": [
  {
   "cell_type": "code",
   "execution_count": null,
   "metadata": {},
   "outputs": [],
   "source": [
    "\n",
    "first_name = input('Hi. What is your first name? \\n') #allows user to input the first name\n",
    "last_name = input('What is your last name? \\n') #allows user to input the last name\n",
    "full_name = first_name + ' ' + last_name\n",
    "print ('Hi, {}'.format(full_name))\n",
    "print ('Now lets reverse it! ')\n",
    "#the function below will take the string and reverse the letters of the user's full name \n",
    "#this is done by itirating each element and joining the characters to obtain a reversed string\n",
    "def reverse(full_name):\n",
    "    str = ''\n",
    "    for i in full_name:\n",
    "        str = i + str\n",
    "    return str\n",
    "\n",
    "print (reverse(full_name))\n"
   ]
  }
 ],
 "metadata": {
  "kernelspec": {
   "display_name": "Python 3",
   "language": "python",
   "name": "python3"
  },
  "language_info": {
   "codemirror_mode": {
    "name": "ipython",
    "version": 3
   },
   "file_extension": ".py",
   "mimetype": "text/x-python",
   "name": "python",
   "nbconvert_exporter": "python",
   "pygments_lexer": "ipython3",
   "version": "3.6.4"
  }
 },
 "nbformat": 4,
 "nbformat_minor": 2
}
